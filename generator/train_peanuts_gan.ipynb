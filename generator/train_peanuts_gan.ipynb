{
  "cells": [
    {
      "cell_type": "code",
      "execution_count": null,
      "id": "5cca9a3e-186e-4f4e-a797-e616662fc1bf",
      "metadata": {
        "execution": {
          "iopub.execute_input": "2024-02-24T21:42:03.941660Z",
          "iopub.status.busy": "2024-02-24T21:42:03.941308Z",
          "iopub.status.idle": "2024-02-24T21:42:04.796299Z",
          "shell.execute_reply": "2024-02-24T21:42:04.795074Z",
          "shell.execute_reply.started": "2024-02-24T21:42:03.941625Z"
        },
        "id": "5cca9a3e-186e-4f4e-a797-e616662fc1bf"
      },
      "outputs": [],
      "source": [
        "!python --version"
      ]
    },
    {
      "cell_type": "code",
      "execution_count": null,
      "id": "2701b0bf-9197-4179-a0bc-5fbb495144f0",
      "metadata": {
        "execution": {
          "iopub.execute_input": "2024-01-27T21:56:17.523291Z",
          "iopub.status.busy": "2024-01-27T21:56:17.522766Z",
          "iopub.status.idle": "2024-01-27T21:56:18.534808Z",
          "shell.execute_reply": "2024-01-27T21:56:18.532874Z",
          "shell.execute_reply.started": "2024-01-27T21:56:17.523241Z"
        },
        "id": "2701b0bf-9197-4179-a0bc-5fbb495144f0"
      },
      "outputs": [],
      "source": [
        "!nvidia-smi"
      ]
    },
    {
      "cell_type": "code",
      "execution_count": null,
      "id": "568f4f30-136b-4b9b-a5e6-c343cf64dec2",
      "metadata": {
        "execution": {
          "iopub.execute_input": "2024-02-24T21:32:16.995262Z",
          "iopub.status.busy": "2024-02-24T21:32:16.994272Z",
          "iopub.status.idle": "2024-02-24T21:33:23.973449Z",
          "shell.execute_reply": "2024-02-24T21:33:23.972081Z",
          "shell.execute_reply.started": "2024-02-24T21:32:16.995227Z"
        },
        "id": "568f4f30-136b-4b9b-a5e6-c343cf64dec2"
      },
      "outputs": [],
      "source": [
        "!pip install -r ./requirements.txt -f https://download.pytorch.org/whl/torch_stable.html"
      ]
    },
    {
      "cell_type": "code",
      "execution_count": null,
      "id": "58594e47-1b8f-46b3-afdd-1c28cb8089e7",
      "metadata": {
        "execution": {
          "iopub.execute_input": "2024-02-24T11:11:57.534471Z",
          "iopub.status.busy": "2024-02-24T11:11:57.533929Z",
          "iopub.status.idle": "2024-02-24T11:11:57.537573Z",
          "shell.execute_reply": "2024-02-24T11:11:57.537069Z",
          "shell.execute_reply.started": "2024-02-24T11:11:57.534448Z"
        },
        "id": "58594e47-1b8f-46b3-afdd-1c28cb8089e7"
      },
      "outputs": [],
      "source": [
        "dataset_path = \"/notebooks/peanuts128x128.zip\"\n",
        "log_path = \"/notebooks/log_folder\""
      ]
    },
    {
      "cell_type": "code",
      "source": [
        "!python generate_dataset_labels.py notebooks/dataset/peanuts"
      ],
      "metadata": {
        "id": "8B8ULooiwIAg"
      },
      "id": "8B8ULooiwIAg",
      "execution_count": null,
      "outputs": []
    },
    {
      "cell_type": "code",
      "source": [
        "!python dataset_tool.py --source=notebooks/dataset/peanuts --dest={dataset_path} --width=128 --height=128"
      ],
      "metadata": {
        "id": "FuBRqDTcq87K"
      },
      "id": "FuBRqDTcq87K",
      "execution_count": null,
      "outputs": []
    },
    {
      "cell_type": "code",
      "execution_count": null,
      "id": "3355d12c-860e-468d-a812-949dc6ea473b",
      "metadata": {
        "execution": {
          "iopub.execute_input": "2024-02-24T11:14:49.987996Z",
          "iopub.status.busy": "2024-02-24T11:14:49.987244Z",
          "iopub.status.idle": "2024-02-24T15:28:11.682837Z",
          "shell.execute_reply": "2024-02-24T15:28:11.681713Z",
          "shell.execute_reply.started": "2024-02-24T11:14:49.987972Z"
        },
        "id": "3355d12c-860e-468d-a812-949dc6ea473b"
      },
      "outputs": [],
      "source": [
        "!python train.py --outdir={log_path} --data={dataset_path} --gpus=1 --mirror=1 --aug=noaug --cond=1"
      ]
    },
    {
      "cell_type": "code",
      "execution_count": null,
      "id": "2250ecf5-9435-4df2-9444-5217a554cdfd",
      "metadata": {
        "execution": {
          "iopub.execute_input": "2024-02-05T21:08:50.109084Z",
          "iopub.status.busy": "2024-02-05T21:08:50.108768Z"
        },
        "id": "2250ecf5-9435-4df2-9444-5217a554cdfd"
      },
      "outputs": [],
      "source": [
        "!python train.py --outdir={log_path} --data={dataset_path} --gpus=1 --mirror=1 --aug=noaug --cond=1 --resume=\"/notebooks/00000-peanuts128x128-cond-mirror-auto1-noaug/network-snapshot-000800.pkl\""
      ]
    },
    {
      "cell_type": "code",
      "execution_count": null,
      "id": "673032bf-719a-4535-bb90-d423f9e7cc21",
      "metadata": {
        "execution": {
          "iopub.execute_input": "2024-02-24T22:32:13.791407Z",
          "iopub.status.busy": "2024-02-24T22:32:13.790349Z"
        },
        "id": "673032bf-719a-4535-bb90-d423f9e7cc21"
      },
      "outputs": [],
      "source": [
        "!python generate.py --outdir=out --trunc=0.7 --seeds=18,20 --network=\"/notebooks/00001-peanuts128x128-cond-mirror-auto1-noaug-resumecustom/network-snapshot-000800.pkl\""
      ]
    }
  ],
  "metadata": {
    "kernelspec": {
      "display_name": "Python 3 (ipykernel)",
      "language": "python",
      "name": "python3"
    },
    "language_info": {
      "codemirror_mode": {
        "name": "ipython",
        "version": 3
      },
      "file_extension": ".py",
      "mimetype": "text/x-python",
      "name": "python",
      "nbconvert_exporter": "python",
      "pygments_lexer": "ipython3",
      "version": "3.9.16"
    },
    "colab": {
      "provenance": []
    }
  },
  "nbformat": 4,
  "nbformat_minor": 5
}